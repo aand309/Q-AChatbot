{
 "cells": [
  {
   "cell_type": "code",
   "execution_count": 75,
   "id": "334f6be9",
   "metadata": {},
   "outputs": [
    {
     "name": "stdout",
     "output_type": "stream",
     "text": [
      "\n",
      "\n",
      "The capital city of Jharkhand is Ranchi, which is also known as the \"City of Waterfalls\". It is located in the eastern part of India and is the third most populous city in the state. Ranchi is known for its scenic beauty, with numerous hills, forests, and waterfalls surrounding the city.\n",
      "\n",
      "Ranchi was originally a village inhabited by tribal communities, but it gained prominence during the British rule when it became a major center for trade and commerce. After India gained independence, Ranchi became the capital of the newly formed state of Jharkhand in 2000.\n",
      "\n",
      "The city is known for its rich cultural heritage and is home to various tribes such as Munda, Oraon, and Santhal. It is also a major center for education, with several prestigious institutions like Indian Institute of Management (IIM), Indian Institute of Technology (IIT), and National Institute of Technology (NIT) located here.\n",
      "\n",
      "Ranchi has a subtropical climate with hot summers and cool winters. The major industries in the city include coal mining, steel, and manufacturing. It is also a popular tourist destination, with attractions such as Jagannath Temple, Rock Garden, and Tagore Hill.\n",
      "\n",
      "The city is well-connected by road,\n"
     ]
    }
   ],
   "source": [
    "from langchain.llms import OpenAI\n",
    "import os\n",
    "import dotenv\n",
    "\n",
    "dotenv.load_dotenv()\n",
    "Key=os.getenv(\"OPENAI_API_KEY\")\n",
    "os.environ[\"OPENAI_API_KEY\"]=Key\n",
    "\n",
    "llm = OpenAI(temperature=0.6)\n",
    "text = \"tell me something about capital city of jharkhand\"\n",
    "response = llm.invoke(text)\n",
    "print(response)\n",
    "\n",
    "\n",
    "\n"
   ]
  },
  {
   "cell_type": "markdown",
   "id": "2cc8dd48",
   "metadata": {},
   "source": [
    "prompt templates and llm chain"
   ]
  },
  {
   "cell_type": "code",
   "execution_count": 76,
   "id": "bebf53cd",
   "metadata": {},
   "outputs": [
    {
     "name": "stdout",
     "output_type": "stream",
     "text": [
      "\n",
      "\n",
      "The capital city of India is New Delhi. It is located in the northern part of the country and is the seat of the central government. New Delhi was designed by British architects Sir Edwin Lutyens and Sir Herbert Baker and inaugurated as the capital in 1931.\n",
      "\n",
      "New Delhi is known for its rich history and diverse culture, with influences from various dynasties and empires that have ruled the region. It is home to numerous historic monuments such as the Red Fort, Qutub Minar, and Humayun's Tomb, which are recognized as UNESCO World Heritage Sites.\n",
      "\n",
      "The city is also a major center for arts, literature, and education, with prestigious institutions like the Indian Institute of Technology, Delhi University, and Jawaharlal Nehru University located here. It is also a hub for political activities, as the Parliament of India and the Supreme Court are located in New Delhi.\n",
      "\n",
      "New Delhi is a bustling metropolis with a population of over 21 million people. It is known for its vibrant markets, delicious street food, and diverse cuisines. The city also hosts major international events such as the annual India International Trade Fair and the Delhi Book Fair.\n",
      "\n",
      "Overall, New Delhi is a city that combines modernity with traditional charm, making it a must\n"
     ]
    }
   ],
   "source": [
    "from langchain.prompts import PromptTemplate\n",
    "prompt_template=PromptTemplate(input_variables=['country'], template=\"Tell me something about the capital city of {country}.\")\n",
    "#prompt_template.format(country='India')\n",
    "from langchain.chains import LLMChain\n",
    "llm_chain = LLMChain(llm=llm, prompt=prompt_template)\n",
    "response = llm_chain.run(country='India')\n",
    "print(response)"
   ]
  },
  {
   "cell_type": "markdown",
   "id": "e190ddd4",
   "metadata": {},
   "source": [
    "Combining Multiple Chains Using simple sequesntial chain"
   ]
  },
  {
   "cell_type": "code",
   "execution_count": 77,
   "id": "6f3f91ce",
   "metadata": {},
   "outputs": [
    {
     "data": {
      "text/plain": [
       "''"
      ]
     },
     "execution_count": 77,
     "metadata": {},
     "output_type": "execute_result"
    }
   ],
   "source": [
    "capital_template=PromptTemplate(input_variables=['country'],template=\"please tell me about capital of the {country}\")\n",
    "capital_chain=LLMChain(llm=llm,prompt=capital_template)\n",
    "famous_template=PromptTemplate(input_variables=['capital'],template=\"please tell me about famous places in the {capital}\")\n",
    "famous_chain=LLMChain(llm=llm,prompt=famous_template)\n",
    "from langchain.chains import SimpleSequentialChain\n",
    "chain=SimpleSequentialChain(chains=[capital_chain,famous_chain])\n",
    "chain.run('India')\n",
    "\n"
   ]
  },
  {
   "cell_type": "markdown",
   "id": "ddad33ab",
   "metadata": {},
   "source": [
    "CHATMODEL WITH ChatOpenAI"
   ]
  },
  {
   "cell_type": "code",
   "execution_count": 78,
   "id": "ec9e21e3",
   "metadata": {},
   "outputs": [
    {
     "data": {
      "text/plain": [
       "AIMessage(content=\"Sure, here are two jokes for you:\\n\\n1. Why couldn't the bicycle stand up by itself? Because it was two tired!\\n2. What do you call a fake noodle? An impasta!\", additional_kwargs={}, response_metadata={'token_usage': {'completion_tokens': 42, 'prompt_tokens': 22, 'total_tokens': 64, 'completion_tokens_details': {'accepted_prediction_tokens': 0, 'audio_tokens': 0, 'reasoning_tokens': 0, 'rejected_prediction_tokens': 0}, 'prompt_tokens_details': {'audio_tokens': 0, 'cached_tokens': 0}}, 'model_name': 'gpt-3.5-turbo', 'system_fingerprint': None, 'finish_reason': 'stop', 'logprobs': None}, id='run--71c93728-ee67-4853-9db5-7c74a9bc75f8-0')"
      ]
     },
     "execution_count": 78,
     "metadata": {},
     "output_type": "execute_result"
    }
   ],
   "source": [
    "from langchain.chat_models import ChatOpenAI \n",
    "from langchain.schema import HumanMessage,SystemMessage,AIMessage\n",
    "chat=ChatOpenAI(openai_api_key=Key,temperature=0.6,model=\"gpt-3.5-turbo\")\n",
    "#chat\n",
    "chat([SystemMessage(content=\"you are a comedian AI assistant\"),HumanMessage(content=\"tell me 2 joke\")])"
   ]
  },
  {
   "cell_type": "markdown",
   "id": "1c7422d4",
   "metadata": {},
   "source": [
    "PROMPT TEMPLATE+LLM+OUTPUT Parser"
   ]
  },
  {
   "cell_type": "code",
   "execution_count": 79,
   "id": "6d6ac3b8",
   "metadata": {},
   "outputs": [
    {
     "data": {
      "text/plain": [
       "['1. Smart\\n2. Clever\\n3. Brainy\\n4. Bright\\n5. Sharp']"
      ]
     },
     "execution_count": 79,
     "metadata": {},
     "output_type": "execute_result"
    }
   ],
   "source": [
    "from langchain.chat_models import ChatOpenAI\n",
    "from langchain.prompts.chat import (ChatPromptTemplate,SystemMessagePromptTemplate,\n",
    "    HumanMessagePromptTemplate)\n",
    "from langchain.schema import BaseOutputParser\n",
    "class Commaseperatedoutput(BaseOutputParser):\n",
    "    def parse(self, text: str) -> list:\n",
    "        return text.split(\",\")\n",
    "template=\"you are a helpful assitance, when the user give any input, you should generate 5 synonyms for that input\"\n",
    "human_template=\"{text}\"\n",
    "#chatprompt=ChatPromptTemplate.from_message([(\"system\",template),(\"human\",human_template)])\n",
    "chatprompt = ChatPromptTemplate.from_messages([\n",
    "    SystemMessagePromptTemplate.from_template(template),\n",
    "    HumanMessagePromptTemplate.from_template(human_template),\n",
    "])\n",
    "chaining=chatprompt|chat|Commaseperatedoutput()\n",
    "chaining.invoke({\"text\":\"intelligent\"})"
   ]
  }
 ],
 "metadata": {
  "kernelspec": {
   "display_name": "Python 3",
   "language": "python",
   "name": "python3"
  },
  "language_info": {
   "codemirror_mode": {
    "name": "ipython",
    "version": 3
   },
   "file_extension": ".py",
   "mimetype": "text/x-python",
   "name": "python",
   "nbconvert_exporter": "python",
   "pygments_lexer": "ipython3",
   "version": "3.9.0"
  }
 },
 "nbformat": 4,
 "nbformat_minor": 5
}

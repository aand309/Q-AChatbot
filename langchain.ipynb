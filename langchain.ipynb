{
 "cells": [
  {
   "cell_type": "code",
   "execution_count": 69,
   "id": "334f6be9",
   "metadata": {},
   "outputs": [
    {
     "name": "stdout",
     "output_type": "stream",
     "text": [
      "\n",
      "\n",
      "The capital city of Jharkhand is Ranchi. It is located in the eastern part of India and is known for its scenic beauty, pleasant climate, and rich cultural heritage.\n",
      "\n",
      "Ranchi has a population of approximately 1.5 million people and is the third most populous city in the state. It is also known as the \"City of Waterfalls\" due to the numerous waterfalls in and around the city.\n",
      "\n",
      "The city is situated at an altitude of 2,140 feet above sea level and is surrounded by hills and forests, making it a popular tourist destination. Some of the famous tourist spots in Ranchi include Tagore Hill, Kanke Dam, Rock Garden, and Hundru Falls.\n",
      "\n",
      "Ranchi is also an important industrial and commercial hub, with industries such as coal mining, steel production, and agriculture contributing to its economy. It is home to several prestigious educational institutions, including the Indian Institute of Management (IIM) and the National Institute of Technology (NIT).\n",
      "\n",
      "The city is well-connected by road, rail, and air, with the Birsa Munda Airport being the primary airport serving the city. Ranchi is also known for its vibrant cultural scene, with various festivals and events celebrated throughout the year, including the famous Sarh\n"
     ]
    }
   ],
   "source": [
    "from langchain.llms import OpenAI\n",
    "import os\n",
    "import dotenv\n",
    "\n",
    "dotenv.load_dotenv()\n",
    "Key=os.getenv(\"OPENAI_API_KEY\")\n",
    "os.environ[\"OPENAI_API_KEY\"]=Key\n",
    "\n",
    "llm = OpenAI(temperature=0.6)\n",
    "text = \"tell me something about capital city of jharkhand\"\n",
    "response = llm.invoke(text)\n",
    "print(response)\n",
    "\n",
    "\n",
    "\n"
   ]
  },
  {
   "cell_type": "markdown",
   "id": "2cc8dd48",
   "metadata": {},
   "source": [
    "prompt templates and llm chain"
   ]
  },
  {
   "cell_type": "code",
   "execution_count": 70,
   "id": "bebf53cd",
   "metadata": {},
   "outputs": [
    {
     "name": "stdout",
     "output_type": "stream",
     "text": [
      "\n",
      "\n",
      "The capital city of India is New Delhi. It is located in the northern part of the country and is the seat of the Indian government. New Delhi is a planned city, designed by British architects Sir Edwin Lutyens and Sir Herbert Baker in the early 20th century. It has a rich history and is home to many important government buildings, such as the Parliament House, the Presidential Palace, and the Supreme Court. It is also a major cultural and commercial center, with numerous museums, art galleries, and markets. New Delhi is known for its diverse and vibrant culture, with a fusion of traditional and modern influences. It is also a hub for education, with prestigious universities and institutes located within the city. The climate in New Delhi is hot and humid in the summer and cool and dry in the winter. The city is well-connected by air, rail, and road, making it a major transportation hub in India.\n"
     ]
    }
   ],
   "source": [
    "from langchain.prompts import PromptTemplate\n",
    "prompt_template=PromptTemplate(input_variables=['country'], template=\"Tell me something about the capital city of {country}.\")\n",
    "#prompt_template.format(country='India')\n",
    "from langchain.chains import LLMChain\n",
    "llm_chain = LLMChain(llm=llm, prompt=prompt_template)\n",
    "response = llm_chain.run(country='India')\n",
    "print(response)"
   ]
  },
  {
   "cell_type": "markdown",
   "id": "e190ddd4",
   "metadata": {},
   "source": [
    "Combining Multiple Chains Using simple sequesntial chain"
   ]
  },
  {
   "cell_type": "code",
   "execution_count": 71,
   "id": "6f3f91ce",
   "metadata": {},
   "outputs": [
    {
     "data": {
      "text/plain": [
       "' tourist destination and attracts millions of visitors every year.\\n\\nOther famous places in India include:\\n\\n1. Taj Mahal - Located in Agra, the Taj Mahal is a UNESCO World Heritage Site and one of the most iconic landmarks in India. It is a mausoleum built by Mughal Emperor Shah Jahan in memory of his wife, Mumtaz Mahal.\\n\\n2. Jaipur - Also known as the \"Pink City,\" Jaipur is the capital of the state of Rajasthan. It is known for its beautiful palaces, forts, and colorful markets. Some popular attractions in Jaipur include the Hawa Mahal, City Palace, and Amer Fort.\\n\\n3. Goa - Located on the west coast of India, Goa is a popular beach destination known for its laid-back vibe, stunning beaches, and Portuguese-influenced architecture. It is also known for its vibrant nightlife and delicious seafood.\\n\\n4. Kerala - Known as \"God\\'s Own Country,\" Kerala is a state in southern India known for its backwaters, lush green landscapes, and tranquil beaches. It is also famous for its Ayurvedic treatments and houseboat cruises.\\n\\n5. Mumbai - The financial capital of India, Mumbai is a bustling city known for its fast-paced lifestyle, Bollywood film industry'"
      ]
     },
     "execution_count": 71,
     "metadata": {},
     "output_type": "execute_result"
    }
   ],
   "source": [
    "capital_template=PromptTemplate(input_variables=['country'],template=\"please tell me about capital of the {country}\")\n",
    "capital_chain=LLMChain(llm=llm,prompt=capital_template)\n",
    "famous_template=PromptTemplate(input_variables=['capital'],template=\"please tell me about famous places in the {capital}\")\n",
    "famous_chain=LLMChain(llm=llm,prompt=famous_template)\n",
    "from langchain.chains import SimpleSequentialChain\n",
    "chain=SimpleSequentialChain(chains=[capital_chain,famous_chain])\n",
    "chain.run('India')\n",
    "\n"
   ]
  },
  {
   "cell_type": "markdown",
   "id": "ddad33ab",
   "metadata": {},
   "source": [
    "CHATMODEL WITH ChatOpenAI"
   ]
  },
  {
   "cell_type": "code",
   "execution_count": 72,
   "id": "ec9e21e3",
   "metadata": {},
   "outputs": [
    {
     "data": {
      "text/plain": [
       "AIMessage(content=\"Sure, here are two jokes for you:\\n\\n1. Why couldn't the bicycle stand up by itself? Because it was two tired!\\n2. I told my wife she should embrace her mistakes. She gave me a hug.\", additional_kwargs={}, response_metadata={'token_usage': {'completion_tokens': 45, 'prompt_tokens': 22, 'total_tokens': 67, 'completion_tokens_details': {'accepted_prediction_tokens': 0, 'audio_tokens': 0, 'reasoning_tokens': 0, 'rejected_prediction_tokens': 0}, 'prompt_tokens_details': {'audio_tokens': 0, 'cached_tokens': 0}}, 'model_name': 'gpt-3.5-turbo', 'system_fingerprint': None, 'finish_reason': 'stop', 'logprobs': None}, id='run--395a4627-ec63-464c-9640-dcd1ab02b2cc-0')"
      ]
     },
     "execution_count": 72,
     "metadata": {},
     "output_type": "execute_result"
    }
   ],
   "source": [
    "from langchain.chat_models import ChatOpenAI \n",
    "from langchain.schema import HumanMessage,SystemMessage,AIMessage\n",
    "chat=ChatOpenAI(openai_api_key=Key,temperature=0.6,model=\"gpt-3.5-turbo\")\n",
    "#chat\n",
    "chat([SystemMessage(content=\"you are a comedian AI assistant\"),HumanMessage(content=\"tell me 2 joke\")])"
   ]
  },
  {
   "cell_type": "markdown",
   "id": "1c7422d4",
   "metadata": {},
   "source": [
    "PROMPT TEMPLATE+LLM+OUTPUT Parser"
   ]
  },
  {
   "cell_type": "code",
   "execution_count": 74,
   "id": "6d6ac3b8",
   "metadata": {},
   "outputs": [
    {
     "data": {
      "text/plain": [
       "['1. Smart\\n2. Clever\\n3. Bright\\n4. Astute\\n5. Sharp']"
      ]
     },
     "execution_count": 74,
     "metadata": {},
     "output_type": "execute_result"
    }
   ],
   "source": [
    "from langchain.chat_models import ChatOpenAI\n",
    "from langchain.prompts.chat import (ChatPromptTemplate,SystemMessagePromptTemplate,\n",
    "    HumanMessagePromptTemplate)\n",
    "from langchain.schema import BaseOutputParser\n",
    "class Commaseperatedoutput(BaseOutputParser):\n",
    "    def parse(self, text: str) -> list:\n",
    "        return text.split(\",\")\n",
    "template=\"you are a helpful assitance, when the user give any input, you should generate 5 synonyms for that input\"\n",
    "human_template=\"{text}\"\n",
    "#chatprompt=ChatPromptTemplate.from_message([(\"system\",template),(\"human\",human_template)])\n",
    "chatprompt = ChatPromptTemplate.from_messages([\n",
    "    SystemMessagePromptTemplate.from_template(template),\n",
    "    HumanMessagePromptTemplate.from_template(human_template),\n",
    "])\n",
    "chaining=chatprompt|chat|Commaseperatedoutput()\n",
    "chaining.invoke({\"text\":\"intelligent\"})"
   ]
  }
 ],
 "metadata": {
  "kernelspec": {
   "display_name": "Python 3",
   "language": "python",
   "name": "python3"
  },
  "language_info": {
   "codemirror_mode": {
    "name": "ipython",
    "version": 3
   },
   "file_extension": ".py",
   "mimetype": "text/x-python",
   "name": "python",
   "nbconvert_exporter": "python",
   "pygments_lexer": "ipython3",
   "version": "3.9.0"
  }
 },
 "nbformat": 4,
 "nbformat_minor": 5
}
